{
 "cells": [
  {
   "cell_type": "code",
   "execution_count": null,
   "metadata": {},
   "outputs": [],
   "source": [
    "import numpy as np\n",
    "import cv2\n",
    "import matplotlib as plt\n",
    "%matplotlib inline\n",
    "import matplotlib.pyplot as plt \n",
    "\n",
    "imagem = cv2.imread('Gatos2.jpg')\n",
    "imagemGray = cv2.cvtColor(imagem, cv2.COLOR_BGR2GRAY)\n",
    "\n",
    "face_frontal = cv2.CascadeClassifier('haarcascade_frontalcatface.xml')\n",
    "\n",
    "face_recon = face_frontal.detectMultiScale(imagemGray, scaleFactor = 1.1, minNeighbors = 1, maxSize= (60,60))\n",
    "\n",
    "for(x, y, w, h) in face_recon:\n",
    "    cv2.rectangle(imagem, (x,y), (x+w, y+h), (0, 255, 0), 4)\n",
    "\n",
    "plt.imshow(cv2.cvtColor(imagem, cv2.COLOR_BGR2RGB))"
   ]
  }
 ],
 "metadata": {
  "language_info": {
   "name": "python"
  }
 },
 "nbformat": 4,
 "nbformat_minor": 2
}
